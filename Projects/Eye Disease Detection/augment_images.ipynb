{
 "cells": [
  {
   "cell_type": "code",
   "execution_count": 2,
   "metadata": {},
   "outputs": [],
   "source": [
    "from PIL import Image\n",
    "import os\n",
    "\n",
    "searches = ['Glaucoma', 'Cataracts', 'Uveitis', 'Crossed_Eyes', 'Bulging eyes']\n",
    "path = '/Users/taimourabdulkarim/Desktop/Fiverr/Reachsumim/Original Dataset copy'\n",
    "\n",
    "for search_term in searches:\n",
    "    # Directory for augmented images\n",
    "    augmented_path = os.path.join(path, f\"{search_term}_augmented\")\n",
    "    if not os.path.exists(augmented_path):\n",
    "        os.makedirs(augmented_path)\n",
    "    \n",
    "    # Get image files for the current search term\n",
    "    image_files = [f for f in os.listdir(os.path.join(path, search_term)) if os.path.isfile(os.path.join(path, search_term, f))]\n",
    "    \n",
    "    # remove the .DS_Store file\n",
    "    if '.DS_Store' in image_files:\n",
    "        image_files.remove('.DS_Store')\n",
    "\n",
    "    for img_file in image_files:\n",
    "        # Load the image\n",
    "        img = Image.open(os.path.join(path, search_term, img_file))\n",
    "        \n",
    "        # Flip the image and save\n",
    "        flipped_img = img.transpose(Image.FLIP_LEFT_RIGHT)\n",
    "        flipped_img_name = f\"{os.path.splitext(img_file)[0]}_flipped{os.path.splitext(img_file)[1]}\"\n",
    "        flipped_img.save(os.path.join(augmented_path, flipped_img_name))\n",
    "        \n",
    "        # Rotate the image by 90, 180, 270 degrees and save\n",
    "        for angle in [180]:\n",
    "            rotated_img = img.rotate(angle)\n",
    "            rotated_img_name = f\"{os.path.splitext(img_file)[0]}_rotated_{angle}{os.path.splitext(img_file)[1]}\"\n",
    "            rotated_img.save(os.path.join(augmented_path, rotated_img_name))\n"
   ]
  },
  {
   "cell_type": "code",
   "execution_count": null,
   "metadata": {},
   "outputs": [],
   "source": []
  }
 ],
 "metadata": {
  "kernelspec": {
   "display_name": "mlp",
   "language": "python",
   "name": "python3"
  },
  "language_info": {
   "codemirror_mode": {
    "name": "ipython",
    "version": 3
   },
   "file_extension": ".py",
   "mimetype": "text/x-python",
   "name": "python",
   "nbconvert_exporter": "python",
   "pygments_lexer": "ipython3",
   "version": "3.8.17"
  }
 },
 "nbformat": 4,
 "nbformat_minor": 2
}
