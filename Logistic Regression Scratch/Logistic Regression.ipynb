{
 "cells": [
  {
   "cell_type": "code",
   "execution_count": 12,
   "metadata": {},
   "outputs": [],
   "source": [
    "import pandas as pd\n",
    "import numpy as np\n",
    "import matplotlib.pyplot as plt\n",
    "import seaborn as sns"
   ]
  },
  {
   "cell_type": "code",
   "execution_count": 13,
   "metadata": {},
   "outputs": [
    {
     "data": {
      "text/html": [
       "<div>\n",
       "<style scoped>\n",
       "    .dataframe tbody tr th:only-of-type {\n",
       "        vertical-align: middle;\n",
       "    }\n",
       "\n",
       "    .dataframe tbody tr th {\n",
       "        vertical-align: top;\n",
       "    }\n",
       "\n",
       "    .dataframe thead th {\n",
       "        text-align: right;\n",
       "    }\n",
       "</style>\n",
       "<table border=\"1\" class=\"dataframe\">\n",
       "  <thead>\n",
       "    <tr style=\"text-align: right;\">\n",
       "      <th></th>\n",
       "      <th>Height (cm)</th>\n",
       "      <th>Label</th>\n",
       "      <th>sig</th>\n",
       "      <th>f(X)</th>\n",
       "      <th>error</th>\n",
       "      <th>WF</th>\n",
       "      <th>y_pred</th>\n",
       "      <th>b</th>\n",
       "      <th>-36.8424613773466</th>\n",
       "      <th>Unnamed: 9</th>\n",
       "    </tr>\n",
       "  </thead>\n",
       "  <tbody>\n",
       "    <tr>\n",
       "      <th>0</th>\n",
       "      <td>120.0</td>\n",
       "      <td>0.0</td>\n",
       "      <td>0.000006</td>\n",
       "      <td>-5.421616e-07</td>\n",
       "      <td>0.000006</td>\n",
       "      <td>4.369884e-09</td>\n",
       "      <td>0.0</td>\n",
       "      <td>w</td>\n",
       "      <td>0.206870</td>\n",
       "      <td>NaN</td>\n",
       "    </tr>\n",
       "    <tr>\n",
       "      <th>1</th>\n",
       "      <td>124.0</td>\n",
       "      <td>0.0</td>\n",
       "      <td>0.000014</td>\n",
       "      <td>-1.240214e-06</td>\n",
       "      <td>0.000014</td>\n",
       "      <td>2.362882e-08</td>\n",
       "      <td>0.0</td>\n",
       "      <td>examples</td>\n",
       "      <td>12.000000</td>\n",
       "      <td>NaN</td>\n",
       "    </tr>\n",
       "    <tr>\n",
       "      <th>2</th>\n",
       "      <td>125.0</td>\n",
       "      <td>0.0</td>\n",
       "      <td>0.000017</td>\n",
       "      <td>-1.525240e-06</td>\n",
       "      <td>0.000017</td>\n",
       "      <td>3.602563e-08</td>\n",
       "      <td>0.0</td>\n",
       "      <td>lr</td>\n",
       "      <td>0.020000</td>\n",
       "      <td>NaN</td>\n",
       "    </tr>\n",
       "    <tr>\n",
       "      <th>3</th>\n",
       "      <td>128.0</td>\n",
       "      <td>0.0</td>\n",
       "      <td>0.000032</td>\n",
       "      <td>-2.837008e-06</td>\n",
       "      <td>0.000032</td>\n",
       "      <td>1.276288e-07</td>\n",
       "      <td>0.0</td>\n",
       "      <td>nb</td>\n",
       "      <td>-36.828097</td>\n",
       "      <td>-36.842461</td>\n",
       "    </tr>\n",
       "    <tr>\n",
       "      <th>4</th>\n",
       "      <td>130.0</td>\n",
       "      <td>0.0</td>\n",
       "      <td>0.000048</td>\n",
       "      <td>-4.290814e-06</td>\n",
       "      <td>0.000048</td>\n",
       "      <td>2.965050e-07</td>\n",
       "      <td>0.0</td>\n",
       "      <td>nw</td>\n",
       "      <td>0.247338</td>\n",
       "      <td>0.206870</td>\n",
       "    </tr>\n",
       "  </tbody>\n",
       "</table>\n",
       "</div>"
      ],
      "text/plain": [
       "   Height (cm)  Label       sig          f(X)     error            WF  y_pred  \\\n",
       "0        120.0    0.0  0.000006 -5.421616e-07  0.000006  4.369884e-09     0.0   \n",
       "1        124.0    0.0  0.000014 -1.240214e-06  0.000014  2.362882e-08     0.0   \n",
       "2        125.0    0.0  0.000017 -1.525240e-06  0.000017  3.602563e-08     0.0   \n",
       "3        128.0    0.0  0.000032 -2.837008e-06  0.000032  1.276288e-07     0.0   \n",
       "4        130.0    0.0  0.000048 -4.290814e-06  0.000048  2.965050e-07     0.0   \n",
       "\n",
       "          b  -36.8424613773466  Unnamed: 9  \n",
       "0         w           0.206870         NaN  \n",
       "1  examples          12.000000         NaN  \n",
       "2        lr           0.020000         NaN  \n",
       "3        nb         -36.828097  -36.842461  \n",
       "4        nw           0.247338    0.206870  "
      ]
     },
     "execution_count": 13,
     "metadata": {},
     "output_type": "execute_result"
    }
   ],
   "source": [
    "df = pd.read_excel('Machine Learning Algos.xlsx',sheet_name='Logistic Regression')\n",
    "df.head()"
   ]
  },
  {
   "cell_type": "code",
   "execution_count": 14,
   "metadata": {},
   "outputs": [],
   "source": [
    "X = df['Height (cm)']\n",
    "Y = df['Label']"
   ]
  },
  {
   "cell_type": "code",
   "execution_count": 15,
   "metadata": {},
   "outputs": [],
   "source": [
    "def sigmoid(x):\n",
    "    return 1/(1+np.exp(-x))"
   ]
  },
  {
   "cell_type": "code",
   "execution_count": 16,
   "metadata": {},
   "outputs": [],
   "source": [
    "def cost_function(X, Y, weights):\n",
    "    m = len(Y)\n",
    "    predictions = sigmoid(np.dot(X, weights))\n",
    "    cost = (1/m) * np.sum(-Y*np.log(predictions) - (1-Y)*np.log(1-predictions))\n",
    "    return cost\n"
   ]
  },
  {
   "cell_type": "code",
   "execution_count": 17,
   "metadata": {},
   "outputs": [],
   "source": [
    "def update_weights(X, Y, weights, lr):\n",
    "    m = len(Y)\n",
    "    predictions = sigmoid(np.dot(X, weights))\n",
    "    gradient = np.dot(X.T, predictions-Y)\n",
    "    weights -= lr * gradient\n",
    "    return weights\n"
   ]
  },
  {
   "cell_type": "code",
   "execution_count": 18,
   "metadata": {},
   "outputs": [],
   "source": [
    "def train(X, Y, weights, lr, iters):\n",
    "    cost_history = []\n",
    "    for i in range(iters):\n",
    "        weights = update_weights(X, Y, weights, lr)\n",
    "        cost = cost_function(X, Y, weights)\n",
    "        cost_history.append(cost)\n",
    "    return weights, cost_history\n"
   ]
  },
  {
   "cell_type": "code",
   "execution_count": 19,
   "metadata": {},
   "outputs": [],
   "source": [
    "# training the model\n",
    "weights = np.zeros(2)\n",
    "X = np.c_[np.ones(len(X)), X]\n",
    "weights, cost_history = train(X, Y, weights, 0.01, 10000)\n"
   ]
  },
  {
   "cell_type": "code",
   "execution_count": 20,
   "metadata": {},
   "outputs": [],
   "source": [
    "def predict(X, weights):\n",
    "    z = np.dot(X, weights)\n",
    "    return sigmoid(z)\n"
   ]
  },
  {
   "cell_type": "code",
   "execution_count": 21,
   "metadata": {},
   "outputs": [
    {
     "data": {
      "text/plain": [
       "array([nan, nan, nan, nan, nan, nan, nan, nan, nan, nan, nan, nan, nan,\n",
       "       nan])"
      ]
     },
     "execution_count": 21,
     "metadata": {},
     "output_type": "execute_result"
    }
   ],
   "source": [
    "predictions = predict(X, weights)\n",
    "predictions\n"
   ]
  },
  {
   "cell_type": "code",
   "execution_count": 22,
   "metadata": {},
   "outputs": [
    {
     "data": {
      "text/plain": [
       "array([0, 0, 0, 0, 0, 0, 0, 0, 0, 0, 0, 0, 0, 0])"
      ]
     },
     "execution_count": 22,
     "metadata": {},
     "output_type": "execute_result"
    }
   ],
   "source": [
    "predictions = np.where(predictions > 0.5, 1, 0)\n",
    "predictions\n"
   ]
  }
 ],
 "metadata": {
  "kernelspec": {
   "display_name": "envpy",
   "language": "python",
   "name": "python3"
  },
  "language_info": {
   "codemirror_mode": {
    "name": "ipython",
    "version": 3
   },
   "file_extension": ".py",
   "mimetype": "text/x-python",
   "name": "python",
   "nbconvert_exporter": "python",
   "pygments_lexer": "ipython3",
   "version": "3.11.0"
  },
  "orig_nbformat": 4,
  "vscode": {
   "interpreter": {
    "hash": "e9dda0523ffaa6e181c594552fc1aea103e69dec7eaf6c8fa6df98b304b552ea"
   }
  }
 },
 "nbformat": 4,
 "nbformat_minor": 2
}
